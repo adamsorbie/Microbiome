{
 "cells": [
  {
   "cell_type": "code",
   "execution_count": 4,
   "metadata": {},
   "outputs": [],
   "source": [
    "import pandas as pd\n",
    "import numpy\n",
    "import argparse\n",
    "import sys"
   ]
  },
  {
   "cell_type": "code",
   "execution_count": 6,
   "metadata": {},
   "outputs": [
    {
     "name": "stderr",
     "output_type": "stream",
     "text": [
      "usage: __main__.py [-h] [-i INPUT] [-r REL]\n",
      "__main__.py: error: unrecognized arguments: -f C:\\Users\\PhD\\AppData\\Roaming\\jupyter\\runtime\\kernel-72d035a4-9d33-43a2-9e0c-429483169874.json\n"
     ]
    },
    {
     "ename": "SystemExit",
     "evalue": "2",
     "output_type": "error",
     "traceback": [
      "An exception has occurred, use %tb to see the full traceback.\n",
      "\u001b[1;31mSystemExit\u001b[0m\u001b[1;31m:\u001b[0m 2\n"
     ]
    },
    {
     "name": "stderr",
     "output_type": "stream",
     "text": [
      "C:\\Users\\PhD\\Anaconda2\\envs\\SC\\lib\\site-packages\\IPython\\core\\interactiveshell.py:2918: UserWarning: To exit: use 'exit', 'quit', or Ctrl-D.\n",
      "  warn(\"To exit: use 'exit', 'quit', or Ctrl-D.\", stacklevel=1)\n"
     ]
    }
   ],
   "source": [
    "def parse_arguments(args):\n",
    "    parser = argparse.ArgumentParser()\n",
    "    parser.add_argument('-i', '--input',\n",
    "                        help='filepath of OTU table')\n",
    "    parser.add_argument('-r', '--rel',\n",
    "                        help='output relative abundance')\n",
    "    return parser.parse_args()\n",
    "\n",
    "def normalise(data, r):\n",
    "    if not r:\n",
    "        sum_row = data\n",
    "        min_sum = min(data.sum())\n",
    "        normalised = data / sum_row * min_sum\n",
    "        return normalised\n",
    "    elif r:\n",
    "        sum_row = otu.sum()\n",
    "        min_sum = min(otu.sum())\n",
    "        rel_abund = otu * 100 / sum_row\n",
    "        return rel_abund\n",
    "\n",
    "           \n",
    "def main():\n",
    "    args=parse_arguments(sys.argv)\n",
    "    if args.input:\n",
    "        data = pd.read_table(args.input, sep=\"\\t\", header=0, index_col=0)\n",
    "    else: \n",
    "        print(\"Error input file not found\")\n",
    "    if args.rel:\n",
    "        normalised_otu = normalise(data, \"r\")\n",
    "        return normalised_otu.to_csv(\"otu_normalised.tab\", sep=\"\\t\", encoding=\"utf-8\")\n",
    "    elif not args.rel:\n",
    "        normalised_otu = normalise(data)\n",
    "        return normalised_otu.to_csv(\"otu_normalised.tab\", sep=\"\\t\", encoding=\"utf-8\")\n",
    "\n",
    "if __name__ == '__main__':\n",
    "    main()"
   ]
  },
  {
   "cell_type": "code",
   "execution_count": null,
   "metadata": {},
   "outputs": [],
   "source": []
  }
 ],
 "metadata": {
  "kernelspec": {
   "display_name": "Python [conda env:SC]",
   "language": "python",
   "name": "conda-env-SC-py"
  },
  "language_info": {
   "codemirror_mode": {
    "name": "ipython",
    "version": 3
   },
   "file_extension": ".py",
   "mimetype": "text/x-python",
   "name": "python",
   "nbconvert_exporter": "python",
   "pygments_lexer": "ipython3",
   "version": "3.6.1"
  }
 },
 "nbformat": 4,
 "nbformat_minor": 2
}
